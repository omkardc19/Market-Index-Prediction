{
  "cells": [
    {
      "cell_type": "markdown",
      "metadata": {
        "id": "iQvUuiphZ4_5"
      },
      "source": [
        "### Market index Prediction\n",
        "\n",
        "\n",
        "\n"
      ]
    },
    {
      "cell_type": "code",
      "execution_count": 59,
      "metadata": {
        "id": "y0qXFSFaZ4_7"
      },
      "outputs": [],
      "source": [
        "### Keras and Tensorflow >2.0"
      ]
    },
    {
      "cell_type": "code",
      "execution_count": 60,
      "metadata": {
        "id": "8AS_t6XcZ4_8"
      },
      "outputs": [],
      "source": [
        "import pandas as pd"
      ]
    },
    {
      "cell_type": "code",
      "execution_count": 61,
      "metadata": {
        "id": "5IjJcWEdZ4_8"
      },
      "outputs": [],
      "source": [
        "df=pd.read_csv('STOCK_INDEX.csv')"
      ]
    },
    {
      "cell_type": "code",
      "execution_count": 62,
      "metadata": {
        "colab": {
          "base_uri": "https://localhost:8080/",
          "height": 206
        },
        "id": "ziHR6-v9Z4_8",
        "outputId": "d049e412-3f56-45d5-a389-31086b4e3b1a"
      },
      "outputs": [
        {
          "output_type": "execute_result",
          "data": {
            "text/plain": [
              "         Date         Open         High          Low        Close  \\\n",
              "0  2010-01-04  5200.899902  5238.450195  5167.100098  5232.200195   \n",
              "1  2010-01-05  5277.149902  5288.350098  5242.399902  5277.899902   \n",
              "2  2010-01-06  5278.149902  5310.850098  5260.049805  5281.799805   \n",
              "3  2010-01-07  5281.799805  5302.549805  5244.750000  5263.100098   \n",
              "4  2010-01-08  5264.250000  5276.750000  5234.700195  5244.750000   \n",
              "\n",
              "     Adj Close  Volume  \n",
              "0  5232.200195     0.0  \n",
              "1  5277.899902     0.0  \n",
              "2  5281.799805     0.0  \n",
              "3  5263.100098     0.0  \n",
              "4  5244.750000     0.0  "
            ],
            "text/html": [
              "\n",
              "\n",
              "  <div id=\"df-6ff35451-e962-493b-b268-1198391412bd\">\n",
              "    <div class=\"colab-df-container\">\n",
              "      <div>\n",
              "<style scoped>\n",
              "    .dataframe tbody tr th:only-of-type {\n",
              "        vertical-align: middle;\n",
              "    }\n",
              "\n",
              "    .dataframe tbody tr th {\n",
              "        vertical-align: top;\n",
              "    }\n",
              "\n",
              "    .dataframe thead th {\n",
              "        text-align: right;\n",
              "    }\n",
              "</style>\n",
              "<table border=\"1\" class=\"dataframe\">\n",
              "  <thead>\n",
              "    <tr style=\"text-align: right;\">\n",
              "      <th></th>\n",
              "      <th>Date</th>\n",
              "      <th>Open</th>\n",
              "      <th>High</th>\n",
              "      <th>Low</th>\n",
              "      <th>Close</th>\n",
              "      <th>Adj Close</th>\n",
              "      <th>Volume</th>\n",
              "    </tr>\n",
              "  </thead>\n",
              "  <tbody>\n",
              "    <tr>\n",
              "      <th>0</th>\n",
              "      <td>2010-01-04</td>\n",
              "      <td>5200.899902</td>\n",
              "      <td>5238.450195</td>\n",
              "      <td>5167.100098</td>\n",
              "      <td>5232.200195</td>\n",
              "      <td>5232.200195</td>\n",
              "      <td>0.0</td>\n",
              "    </tr>\n",
              "    <tr>\n",
              "      <th>1</th>\n",
              "      <td>2010-01-05</td>\n",
              "      <td>5277.149902</td>\n",
              "      <td>5288.350098</td>\n",
              "      <td>5242.399902</td>\n",
              "      <td>5277.899902</td>\n",
              "      <td>5277.899902</td>\n",
              "      <td>0.0</td>\n",
              "    </tr>\n",
              "    <tr>\n",
              "      <th>2</th>\n",
              "      <td>2010-01-06</td>\n",
              "      <td>5278.149902</td>\n",
              "      <td>5310.850098</td>\n",
              "      <td>5260.049805</td>\n",
              "      <td>5281.799805</td>\n",
              "      <td>5281.799805</td>\n",
              "      <td>0.0</td>\n",
              "    </tr>\n",
              "    <tr>\n",
              "      <th>3</th>\n",
              "      <td>2010-01-07</td>\n",
              "      <td>5281.799805</td>\n",
              "      <td>5302.549805</td>\n",
              "      <td>5244.750000</td>\n",
              "      <td>5263.100098</td>\n",
              "      <td>5263.100098</td>\n",
              "      <td>0.0</td>\n",
              "    </tr>\n",
              "    <tr>\n",
              "      <th>4</th>\n",
              "      <td>2010-01-08</td>\n",
              "      <td>5264.250000</td>\n",
              "      <td>5276.750000</td>\n",
              "      <td>5234.700195</td>\n",
              "      <td>5244.750000</td>\n",
              "      <td>5244.750000</td>\n",
              "      <td>0.0</td>\n",
              "    </tr>\n",
              "  </tbody>\n",
              "</table>\n",
              "</div>\n",
              "      <button class=\"colab-df-convert\" onclick=\"convertToInteractive('df-6ff35451-e962-493b-b268-1198391412bd')\"\n",
              "              title=\"Convert this dataframe to an interactive table.\"\n",
              "              style=\"display:none;\">\n",
              "\n",
              "  <svg xmlns=\"http://www.w3.org/2000/svg\" height=\"24px\"viewBox=\"0 0 24 24\"\n",
              "       width=\"24px\">\n",
              "    <path d=\"M0 0h24v24H0V0z\" fill=\"none\"/>\n",
              "    <path d=\"M18.56 5.44l.94 2.06.94-2.06 2.06-.94-2.06-.94-.94-2.06-.94 2.06-2.06.94zm-11 1L8.5 8.5l.94-2.06 2.06-.94-2.06-.94L8.5 2.5l-.94 2.06-2.06.94zm10 10l.94 2.06.94-2.06 2.06-.94-2.06-.94-.94-2.06-.94 2.06-2.06.94z\"/><path d=\"M17.41 7.96l-1.37-1.37c-.4-.4-.92-.59-1.43-.59-.52 0-1.04.2-1.43.59L10.3 9.45l-7.72 7.72c-.78.78-.78 2.05 0 2.83L4 21.41c.39.39.9.59 1.41.59.51 0 1.02-.2 1.41-.59l7.78-7.78 2.81-2.81c.8-.78.8-2.07 0-2.86zM5.41 20L4 18.59l7.72-7.72 1.47 1.35L5.41 20z\"/>\n",
              "  </svg>\n",
              "      </button>\n",
              "\n",
              "\n",
              "\n",
              "    <div id=\"df-4c169f07-4ec4-4e45-8bec-85e3ce8918ae\">\n",
              "      <button class=\"colab-df-quickchart\" onclick=\"quickchart('df-4c169f07-4ec4-4e45-8bec-85e3ce8918ae')\"\n",
              "              title=\"Suggest charts.\"\n",
              "              style=\"display:none;\">\n",
              "\n",
              "<svg xmlns=\"http://www.w3.org/2000/svg\" height=\"24px\"viewBox=\"0 0 24 24\"\n",
              "     width=\"24px\">\n",
              "    <g>\n",
              "        <path d=\"M19 3H5c-1.1 0-2 .9-2 2v14c0 1.1.9 2 2 2h14c1.1 0 2-.9 2-2V5c0-1.1-.9-2-2-2zM9 17H7v-7h2v7zm4 0h-2V7h2v10zm4 0h-2v-4h2v4z\"/>\n",
              "    </g>\n",
              "</svg>\n",
              "      </button>\n",
              "    </div>\n",
              "\n",
              "<style>\n",
              "  .colab-df-quickchart {\n",
              "    background-color: #E8F0FE;\n",
              "    border: none;\n",
              "    border-radius: 50%;\n",
              "    cursor: pointer;\n",
              "    display: none;\n",
              "    fill: #1967D2;\n",
              "    height: 32px;\n",
              "    padding: 0 0 0 0;\n",
              "    width: 32px;\n",
              "  }\n",
              "\n",
              "  .colab-df-quickchart:hover {\n",
              "    background-color: #E2EBFA;\n",
              "    box-shadow: 0px 1px 2px rgba(60, 64, 67, 0.3), 0px 1px 3px 1px rgba(60, 64, 67, 0.15);\n",
              "    fill: #174EA6;\n",
              "  }\n",
              "\n",
              "  [theme=dark] .colab-df-quickchart {\n",
              "    background-color: #3B4455;\n",
              "    fill: #D2E3FC;\n",
              "  }\n",
              "\n",
              "  [theme=dark] .colab-df-quickchart:hover {\n",
              "    background-color: #434B5C;\n",
              "    box-shadow: 0px 1px 3px 1px rgba(0, 0, 0, 0.15);\n",
              "    filter: drop-shadow(0px 1px 2px rgba(0, 0, 0, 0.3));\n",
              "    fill: #FFFFFF;\n",
              "  }\n",
              "</style>\n",
              "\n",
              "    <script>\n",
              "      async function quickchart(key) {\n",
              "        const containerElement = document.querySelector('#' + key);\n",
              "        const charts = await google.colab.kernel.invokeFunction(\n",
              "            'suggestCharts', [key], {});\n",
              "      }\n",
              "    </script>\n",
              "\n",
              "      <script>\n",
              "\n",
              "function displayQuickchartButton(domScope) {\n",
              "  let quickchartButtonEl =\n",
              "    domScope.querySelector('#df-4c169f07-4ec4-4e45-8bec-85e3ce8918ae button.colab-df-quickchart');\n",
              "  quickchartButtonEl.style.display =\n",
              "    google.colab.kernel.accessAllowed ? 'block' : 'none';\n",
              "}\n",
              "\n",
              "        displayQuickchartButton(document);\n",
              "      </script>\n",
              "      <style>\n",
              "    .colab-df-container {\n",
              "      display:flex;\n",
              "      flex-wrap:wrap;\n",
              "      gap: 12px;\n",
              "    }\n",
              "\n",
              "    .colab-df-convert {\n",
              "      background-color: #E8F0FE;\n",
              "      border: none;\n",
              "      border-radius: 50%;\n",
              "      cursor: pointer;\n",
              "      display: none;\n",
              "      fill: #1967D2;\n",
              "      height: 32px;\n",
              "      padding: 0 0 0 0;\n",
              "      width: 32px;\n",
              "    }\n",
              "\n",
              "    .colab-df-convert:hover {\n",
              "      background-color: #E2EBFA;\n",
              "      box-shadow: 0px 1px 2px rgba(60, 64, 67, 0.3), 0px 1px 3px 1px rgba(60, 64, 67, 0.15);\n",
              "      fill: #174EA6;\n",
              "    }\n",
              "\n",
              "    [theme=dark] .colab-df-convert {\n",
              "      background-color: #3B4455;\n",
              "      fill: #D2E3FC;\n",
              "    }\n",
              "\n",
              "    [theme=dark] .colab-df-convert:hover {\n",
              "      background-color: #434B5C;\n",
              "      box-shadow: 0px 1px 3px 1px rgba(0, 0, 0, 0.15);\n",
              "      filter: drop-shadow(0px 1px 2px rgba(0, 0, 0, 0.3));\n",
              "      fill: #FFFFFF;\n",
              "    }\n",
              "  </style>\n",
              "\n",
              "      <script>\n",
              "        const buttonEl =\n",
              "          document.querySelector('#df-6ff35451-e962-493b-b268-1198391412bd button.colab-df-convert');\n",
              "        buttonEl.style.display =\n",
              "          google.colab.kernel.accessAllowed ? 'block' : 'none';\n",
              "\n",
              "        async function convertToInteractive(key) {\n",
              "          const element = document.querySelector('#df-6ff35451-e962-493b-b268-1198391412bd');\n",
              "          const dataTable =\n",
              "            await google.colab.kernel.invokeFunction('convertToInteractive',\n",
              "                                                     [key], {});\n",
              "          if (!dataTable) return;\n",
              "\n",
              "          const docLinkHtml = 'Like what you see? Visit the ' +\n",
              "            '<a target=\"_blank\" href=https://colab.research.google.com/notebooks/data_table.ipynb>data table notebook</a>'\n",
              "            + ' to learn more about interactive tables.';\n",
              "          element.innerHTML = '';\n",
              "          dataTable['output_type'] = 'display_data';\n",
              "          await google.colab.output.renderOutput(dataTable, element);\n",
              "          const docLink = document.createElement('div');\n",
              "          docLink.innerHTML = docLinkHtml;\n",
              "          element.appendChild(docLink);\n",
              "        }\n",
              "      </script>\n",
              "    </div>\n",
              "  </div>\n"
            ]
          },
          "metadata": {},
          "execution_count": 62
        }
      ],
      "source": [
        "df.head()"
      ]
    },
    {
      "cell_type": "code",
      "execution_count": 63,
      "metadata": {
        "colab": {
          "base_uri": "https://localhost:8080/",
          "height": 206
        },
        "id": "e-mCEB9eZ4_9",
        "outputId": "e258faeb-a3d6-4dc1-9e98-57404389a811"
      },
      "outputs": [
        {
          "output_type": "execute_result",
          "data": {
            "text/plain": [
              "            Date         Open         High          Low        Close  \\\n",
              "2689  2021-04-26  14449.45020  14557.50000  14421.29981  14485.00000   \n",
              "2690  2021-04-27  14493.79981  14667.54981  14484.84961  14653.04981   \n",
              "2691  2021-04-28  14710.50000  14890.25000  14694.95020  14864.54981   \n",
              "2692  2021-04-29  14979.00000  15044.34961  14814.45020  14894.90039   \n",
              "2693  2021-04-30  14747.34961  14855.45020  14601.70020  14631.09961   \n",
              "\n",
              "        Adj Close    Volume  \n",
              "2689  14485.00000  452700.0  \n",
              "2690  14653.04981  451800.0  \n",
              "2691  14864.54981  457000.0  \n",
              "2692  14894.90039  517500.0  \n",
              "2693  14631.09961  613900.0  "
            ],
            "text/html": [
              "\n",
              "\n",
              "  <div id=\"df-e37bceae-4833-40a6-8b5a-1a586081eeb7\">\n",
              "    <div class=\"colab-df-container\">\n",
              "      <div>\n",
              "<style scoped>\n",
              "    .dataframe tbody tr th:only-of-type {\n",
              "        vertical-align: middle;\n",
              "    }\n",
              "\n",
              "    .dataframe tbody tr th {\n",
              "        vertical-align: top;\n",
              "    }\n",
              "\n",
              "    .dataframe thead th {\n",
              "        text-align: right;\n",
              "    }\n",
              "</style>\n",
              "<table border=\"1\" class=\"dataframe\">\n",
              "  <thead>\n",
              "    <tr style=\"text-align: right;\">\n",
              "      <th></th>\n",
              "      <th>Date</th>\n",
              "      <th>Open</th>\n",
              "      <th>High</th>\n",
              "      <th>Low</th>\n",
              "      <th>Close</th>\n",
              "      <th>Adj Close</th>\n",
              "      <th>Volume</th>\n",
              "    </tr>\n",
              "  </thead>\n",
              "  <tbody>\n",
              "    <tr>\n",
              "      <th>2689</th>\n",
              "      <td>2021-04-26</td>\n",
              "      <td>14449.45020</td>\n",
              "      <td>14557.50000</td>\n",
              "      <td>14421.29981</td>\n",
              "      <td>14485.00000</td>\n",
              "      <td>14485.00000</td>\n",
              "      <td>452700.0</td>\n",
              "    </tr>\n",
              "    <tr>\n",
              "      <th>2690</th>\n",
              "      <td>2021-04-27</td>\n",
              "      <td>14493.79981</td>\n",
              "      <td>14667.54981</td>\n",
              "      <td>14484.84961</td>\n",
              "      <td>14653.04981</td>\n",
              "      <td>14653.04981</td>\n",
              "      <td>451800.0</td>\n",
              "    </tr>\n",
              "    <tr>\n",
              "      <th>2691</th>\n",
              "      <td>2021-04-28</td>\n",
              "      <td>14710.50000</td>\n",
              "      <td>14890.25000</td>\n",
              "      <td>14694.95020</td>\n",
              "      <td>14864.54981</td>\n",
              "      <td>14864.54981</td>\n",
              "      <td>457000.0</td>\n",
              "    </tr>\n",
              "    <tr>\n",
              "      <th>2692</th>\n",
              "      <td>2021-04-29</td>\n",
              "      <td>14979.00000</td>\n",
              "      <td>15044.34961</td>\n",
              "      <td>14814.45020</td>\n",
              "      <td>14894.90039</td>\n",
              "      <td>14894.90039</td>\n",
              "      <td>517500.0</td>\n",
              "    </tr>\n",
              "    <tr>\n",
              "      <th>2693</th>\n",
              "      <td>2021-04-30</td>\n",
              "      <td>14747.34961</td>\n",
              "      <td>14855.45020</td>\n",
              "      <td>14601.70020</td>\n",
              "      <td>14631.09961</td>\n",
              "      <td>14631.09961</td>\n",
              "      <td>613900.0</td>\n",
              "    </tr>\n",
              "  </tbody>\n",
              "</table>\n",
              "</div>\n",
              "      <button class=\"colab-df-convert\" onclick=\"convertToInteractive('df-e37bceae-4833-40a6-8b5a-1a586081eeb7')\"\n",
              "              title=\"Convert this dataframe to an interactive table.\"\n",
              "              style=\"display:none;\">\n",
              "\n",
              "  <svg xmlns=\"http://www.w3.org/2000/svg\" height=\"24px\"viewBox=\"0 0 24 24\"\n",
              "       width=\"24px\">\n",
              "    <path d=\"M0 0h24v24H0V0z\" fill=\"none\"/>\n",
              "    <path d=\"M18.56 5.44l.94 2.06.94-2.06 2.06-.94-2.06-.94-.94-2.06-.94 2.06-2.06.94zm-11 1L8.5 8.5l.94-2.06 2.06-.94-2.06-.94L8.5 2.5l-.94 2.06-2.06.94zm10 10l.94 2.06.94-2.06 2.06-.94-2.06-.94-.94-2.06-.94 2.06-2.06.94z\"/><path d=\"M17.41 7.96l-1.37-1.37c-.4-.4-.92-.59-1.43-.59-.52 0-1.04.2-1.43.59L10.3 9.45l-7.72 7.72c-.78.78-.78 2.05 0 2.83L4 21.41c.39.39.9.59 1.41.59.51 0 1.02-.2 1.41-.59l7.78-7.78 2.81-2.81c.8-.78.8-2.07 0-2.86zM5.41 20L4 18.59l7.72-7.72 1.47 1.35L5.41 20z\"/>\n",
              "  </svg>\n",
              "      </button>\n",
              "\n",
              "\n",
              "\n",
              "    <div id=\"df-dd487178-57ea-4ee9-bc24-a7e4ad8f7c08\">\n",
              "      <button class=\"colab-df-quickchart\" onclick=\"quickchart('df-dd487178-57ea-4ee9-bc24-a7e4ad8f7c08')\"\n",
              "              title=\"Suggest charts.\"\n",
              "              style=\"display:none;\">\n",
              "\n",
              "<svg xmlns=\"http://www.w3.org/2000/svg\" height=\"24px\"viewBox=\"0 0 24 24\"\n",
              "     width=\"24px\">\n",
              "    <g>\n",
              "        <path d=\"M19 3H5c-1.1 0-2 .9-2 2v14c0 1.1.9 2 2 2h14c1.1 0 2-.9 2-2V5c0-1.1-.9-2-2-2zM9 17H7v-7h2v7zm4 0h-2V7h2v10zm4 0h-2v-4h2v4z\"/>\n",
              "    </g>\n",
              "</svg>\n",
              "      </button>\n",
              "    </div>\n",
              "\n",
              "<style>\n",
              "  .colab-df-quickchart {\n",
              "    background-color: #E8F0FE;\n",
              "    border: none;\n",
              "    border-radius: 50%;\n",
              "    cursor: pointer;\n",
              "    display: none;\n",
              "    fill: #1967D2;\n",
              "    height: 32px;\n",
              "    padding: 0 0 0 0;\n",
              "    width: 32px;\n",
              "  }\n",
              "\n",
              "  .colab-df-quickchart:hover {\n",
              "    background-color: #E2EBFA;\n",
              "    box-shadow: 0px 1px 2px rgba(60, 64, 67, 0.3), 0px 1px 3px 1px rgba(60, 64, 67, 0.15);\n",
              "    fill: #174EA6;\n",
              "  }\n",
              "\n",
              "  [theme=dark] .colab-df-quickchart {\n",
              "    background-color: #3B4455;\n",
              "    fill: #D2E3FC;\n",
              "  }\n",
              "\n",
              "  [theme=dark] .colab-df-quickchart:hover {\n",
              "    background-color: #434B5C;\n",
              "    box-shadow: 0px 1px 3px 1px rgba(0, 0, 0, 0.15);\n",
              "    filter: drop-shadow(0px 1px 2px rgba(0, 0, 0, 0.3));\n",
              "    fill: #FFFFFF;\n",
              "  }\n",
              "</style>\n",
              "\n",
              "    <script>\n",
              "      async function quickchart(key) {\n",
              "        const containerElement = document.querySelector('#' + key);\n",
              "        const charts = await google.colab.kernel.invokeFunction(\n",
              "            'suggestCharts', [key], {});\n",
              "      }\n",
              "    </script>\n",
              "\n",
              "      <script>\n",
              "\n",
              "function displayQuickchartButton(domScope) {\n",
              "  let quickchartButtonEl =\n",
              "    domScope.querySelector('#df-dd487178-57ea-4ee9-bc24-a7e4ad8f7c08 button.colab-df-quickchart');\n",
              "  quickchartButtonEl.style.display =\n",
              "    google.colab.kernel.accessAllowed ? 'block' : 'none';\n",
              "}\n",
              "\n",
              "        displayQuickchartButton(document);\n",
              "      </script>\n",
              "      <style>\n",
              "    .colab-df-container {\n",
              "      display:flex;\n",
              "      flex-wrap:wrap;\n",
              "      gap: 12px;\n",
              "    }\n",
              "\n",
              "    .colab-df-convert {\n",
              "      background-color: #E8F0FE;\n",
              "      border: none;\n",
              "      border-radius: 50%;\n",
              "      cursor: pointer;\n",
              "      display: none;\n",
              "      fill: #1967D2;\n",
              "      height: 32px;\n",
              "      padding: 0 0 0 0;\n",
              "      width: 32px;\n",
              "    }\n",
              "\n",
              "    .colab-df-convert:hover {\n",
              "      background-color: #E2EBFA;\n",
              "      box-shadow: 0px 1px 2px rgba(60, 64, 67, 0.3), 0px 1px 3px 1px rgba(60, 64, 67, 0.15);\n",
              "      fill: #174EA6;\n",
              "    }\n",
              "\n",
              "    [theme=dark] .colab-df-convert {\n",
              "      background-color: #3B4455;\n",
              "      fill: #D2E3FC;\n",
              "    }\n",
              "\n",
              "    [theme=dark] .colab-df-convert:hover {\n",
              "      background-color: #434B5C;\n",
              "      box-shadow: 0px 1px 3px 1px rgba(0, 0, 0, 0.15);\n",
              "      filter: drop-shadow(0px 1px 2px rgba(0, 0, 0, 0.3));\n",
              "      fill: #FFFFFF;\n",
              "    }\n",
              "  </style>\n",
              "\n",
              "      <script>\n",
              "        const buttonEl =\n",
              "          document.querySelector('#df-e37bceae-4833-40a6-8b5a-1a586081eeb7 button.colab-df-convert');\n",
              "        buttonEl.style.display =\n",
              "          google.colab.kernel.accessAllowed ? 'block' : 'none';\n",
              "\n",
              "        async function convertToInteractive(key) {\n",
              "          const element = document.querySelector('#df-e37bceae-4833-40a6-8b5a-1a586081eeb7');\n",
              "          const dataTable =\n",
              "            await google.colab.kernel.invokeFunction('convertToInteractive',\n",
              "                                                     [key], {});\n",
              "          if (!dataTable) return;\n",
              "\n",
              "          const docLinkHtml = 'Like what you see? Visit the ' +\n",
              "            '<a target=\"_blank\" href=https://colab.research.google.com/notebooks/data_table.ipynb>data table notebook</a>'\n",
              "            + ' to learn more about interactive tables.';\n",
              "          element.innerHTML = '';\n",
              "          dataTable['output_type'] = 'display_data';\n",
              "          await google.colab.output.renderOutput(dataTable, element);\n",
              "          const docLink = document.createElement('div');\n",
              "          docLink.innerHTML = docLinkHtml;\n",
              "          element.appendChild(docLink);\n",
              "        }\n",
              "      </script>\n",
              "    </div>\n",
              "  </div>\n"
            ]
          },
          "metadata": {},
          "execution_count": 63
        }
      ],
      "source": [
        "df.tail()"
      ]
    },
    {
      "cell_type": "code",
      "execution_count": 64,
      "metadata": {
        "id": "Lilc4ZJOZ4_9"
      },
      "outputs": [],
      "source": [
        "df1=df.reset_index()['Close']"
      ]
    },
    {
      "cell_type": "code",
      "execution_count": 65,
      "metadata": {
        "colab": {
          "base_uri": "https://localhost:8080/"
        },
        "id": "EzmFuJ6NZ4_-",
        "outputId": "3b1cc7a9-72c4-4235-c73d-1bfd5ccb254a"
      },
      "outputs": [
        {
          "output_type": "execute_result",
          "data": {
            "text/plain": [
              "0        5232.200195\n",
              "1        5277.899902\n",
              "2        5281.799805\n",
              "3        5263.100098\n",
              "4        5244.750000\n",
              "            ...     \n",
              "2689    14485.000000\n",
              "2690    14653.049810\n",
              "2691    14864.549810\n",
              "2692    14894.900390\n",
              "2693    14631.099610\n",
              "Name: Close, Length: 2694, dtype: float64"
            ]
          },
          "metadata": {},
          "execution_count": 65
        }
      ],
      "source": [
        "df1"
      ]
    },
    {
      "cell_type": "code",
      "source": [
        "df1= df1.dropna()\n",
        "df1.info()"
      ],
      "metadata": {
        "colab": {
          "base_uri": "https://localhost:8080/"
        },
        "id": "rIbrrlY1aJoe",
        "outputId": "464d4d20-bf41-4a55-b362-2fb0b2ebbc45"
      },
      "execution_count": 66,
      "outputs": [
        {
          "output_type": "stream",
          "name": "stdout",
          "text": [
            "<class 'pandas.core.series.Series'>\n",
            "Int64Index: 2667 entries, 0 to 2693\n",
            "Series name: Close\n",
            "Non-Null Count  Dtype  \n",
            "--------------  -----  \n",
            "2667 non-null   float64\n",
            "dtypes: float64(1)\n",
            "memory usage: 41.7 KB\n"
          ]
        }
      ]
    },
    {
      "cell_type": "code",
      "execution_count": 67,
      "metadata": {
        "colab": {
          "base_uri": "https://localhost:8080/",
          "height": 447
        },
        "id": "NrlLrsbjZ4_-",
        "outputId": "0937ed90-569a-4dfc-9011-0ebf46af5d0d"
      },
      "outputs": [
        {
          "output_type": "execute_result",
          "data": {
            "text/plain": [
              "[<matplotlib.lines.Line2D at 0x79188530a560>]"
            ]
          },
          "metadata": {},
          "execution_count": 67
        },
        {
          "output_type": "display_data",
          "data": {
            "text/plain": [
              "<Figure size 640x480 with 1 Axes>"
            ],
            "image/png": "[encoded data removed]"
          },
          "metadata": {}
        }
      ],
      "source": [
        "import matplotlib.pyplot as plt\n",
        "plt.plot(df1)"
      ]
    },
    {
      "cell_type": "code",
      "execution_count": 68,
      "metadata": {
        "id": "BA7NQBkKZ4_-"
      },
      "outputs": [],
      "source": [
        "### LSTM are sensitive to the scale of the data. so we apply MinMax scaler"
      ]
    },
    {
      "cell_type": "code",
      "execution_count": 69,
      "metadata": {
        "id": "P0lwVI_cZ4_-"
      },
      "outputs": [],
      "source": [
        "import numpy as np"
      ]
    },
    {
      "cell_type": "code",
      "execution_count": 70,
      "metadata": {
        "colab": {
          "base_uri": "https://localhost:8080/"
        },
        "id": "TIkHOINyZ4_-",
        "outputId": "72bf907d-678c-4510-d741-7eafad4f12da"
      },
      "outputs": [
        {
          "output_type": "execute_result",
          "data": {
            "text/plain": [
              "0        5232.200195\n",
              "1        5277.899902\n",
              "2        5281.799805\n",
              "3        5263.100098\n",
              "4        5244.750000\n",
              "            ...     \n",
              "2689    14485.000000\n",
              "2690    14653.049810\n",
              "2691    14864.549810\n",
              "2692    14894.900390\n",
              "2693    14631.099610\n",
              "Name: Close, Length: 2667, dtype: float64"
            ]
          },
          "metadata": {},
          "execution_count": 70
        }
      ],
      "source": [
        "df1"
      ]
    },
    {
      "cell_type": "code",
      "execution_count": 71,
      "metadata": {
        "id": "63TitPaVZ4__"
      },
      "outputs": [],
      "source": [
        "from sklearn.preprocessing import MinMaxScaler\n",
        "scaler=MinMaxScaler(feature_range=(0,1))\n",
        "df1=scaler.fit_transform(np.array(df1).reshape(-1,1))"
      ]
    },
    {
      "cell_type": "code",
      "execution_count": 72,
      "metadata": {
        "colab": {
          "base_uri": "https://localhost:8080/"
        },
        "id": "_7BKt-2DZ4__",
        "outputId": "99ddaba1-4569-4a3f-a917-a998156d7787"
      },
      "outputs": [
        {
          "output_type": "stream",
          "name": "stdout",
          "text": [
            "[[0.06387819]\n",
            " [0.06812123]\n",
            " [0.06848332]\n",
            " ...\n",
            " [0.95820525]\n",
            " [0.96102318]\n",
            " [0.93653028]]\n"
          ]
        }
      ],
      "source": [
        "print(df1)"
      ]
    },
    {
      "cell_type": "code",
      "execution_count": 73,
      "metadata": {
        "id": "F7_mL1tfZ4__"
      },
      "outputs": [],
      "source": [
        "##splitting dataset into train and test split\n",
        "training_size=int(len(df1)*0.80)\n",
        "test_size=len(df1)-training_size\n",
        "train_data,test_data=df1[0:training_size,:],df1[training_size:len(df1),:1]"
      ]
    },
    {
      "cell_type": "code",
      "execution_count": 74,
      "metadata": {
        "colab": {
          "base_uri": "https://localhost:8080/"
        },
        "id": "NyW3f_EwZ4__",
        "outputId": "1b0e3cb9-195d-43ef-c14e-c55abd0caf64"
      },
      "outputs": [
        {
          "output_type": "execute_result",
          "data": {
            "text/plain": [
              "(2133, 534)"
            ]
          },
          "metadata": {},
          "execution_count": 74
        }
      ],
      "source": [
        "training_size,test_size"
      ]
    },
    {
      "cell_type": "code",
      "execution_count": 75,
      "metadata": {
        "colab": {
          "base_uri": "https://localhost:8080/"
        },
        "id": "IjsheJY_Z4__",
        "outputId": "51809ea4-68c7-4da4-c2df-575262db71cb"
      },
      "outputs": [
        {
          "output_type": "execute_result",
          "data": {
            "text/plain": [
              "array([[0.06387819],\n",
              "       [0.06812123],\n",
              "       [0.06848332],\n",
              "       ...,\n",
              "       [0.59222411],\n",
              "       [0.5837519 ],\n",
              "       [0.58545096]])"
            ]
          },
          "metadata": {},
          "execution_count": 75
        }
      ],
      "source": [
        "train_data"
      ]
    },
    {
      "cell_type": "code",
      "execution_count": 76,
      "metadata": {
        "id": "5k6EMZo6Z5AA"
      },
      "outputs": [],
      "source": [
        "import numpy\n",
        "# convert an array of values into a dataset matrix\n",
        "def create_dataset(dataset, time_step=1):\n",
        "\tdataX, dataY = [], []\n",
        "\tfor i in range(len(dataset)-time_step-1):\n",
        "\t\ta = dataset[i:(i+time_step), 0]   ###i=0, 0,1,2,3-----99   100\n",
        "\t\tdataX.append(a)\n",
        "\t\tdataY.append(dataset[i + time_step, 0])\n",
        "\treturn numpy.array(dataX), numpy.array(dataY)"
      ]
    },
    {
      "cell_type": "code",
      "execution_count": 77,
      "metadata": {
        "id": "ymatwvKtZ5AA"
      },
      "outputs": [],
      "source": [
        "# reshape into X=t,t+1,t+2,t+3 and Y=t+4\n",
        "time_step = 50\n",
        "X_train, y_train = create_dataset(train_data, time_step)\n",
        "X_test, ytest = create_dataset(test_data, time_step)"
      ]
    },
    {
      "cell_type": "code",
      "execution_count": 78,
      "metadata": {
        "colab": {
          "base_uri": "https://localhost:8080/"
        },
        "id": "RtcFjqkdZ5AA",
        "outputId": "ccb41ef3-55fe-4a36-a82c-fd041aa3d157"
      },
      "outputs": [
        {
          "output_type": "stream",
          "name": "stdout",
          "text": [
            "(2082, 50)\n",
            "(2082,)\n"
          ]
        },
        {
          "output_type": "execute_result",
          "data": {
            "text/plain": [
              "(None, None)"
            ]
          },
          "metadata": {},
          "execution_count": 78
        }
      ],
      "source": [
        "print(X_train.shape), print(y_train.shape)"
      ]
    },
    {
      "cell_type": "code",
      "execution_count": 79,
      "metadata": {
        "colab": {
          "base_uri": "https://localhost:8080/"
        },
        "id": "KLWM6QyXZ5AC",
        "outputId": "3b6677ff-1ad8-425a-9a11-5ae9d037d2d8"
      },
      "outputs": [
        {
          "output_type": "stream",
          "name": "stdout",
          "text": [
            "(483, 50)\n",
            "(483,)\n"
          ]
        },
        {
          "output_type": "execute_result",
          "data": {
            "text/plain": [
              "(None, None)"
            ]
          },
          "metadata": {},
          "execution_count": 79
        }
      ],
      "source": [
        "print(X_test.shape), print(ytest.shape)"
      ]
    },
    {
      "cell_type": "code",
      "execution_count": 80,
      "metadata": {
        "id": "dstD_Pq0Z5AC"
      },
      "outputs": [],
      "source": [
        "# reshape input to be [samples, time steps, features] which is required for LSTM\n",
        "X_train =X_train.reshape(X_train.shape[0],X_train.shape[1] , 1)\n",
        "X_test = X_test.reshape(X_test.shape[0],X_test.shape[1] , 1)"
      ]
    },
    {
      "cell_type": "code",
      "source": [
        "y_train =y_train.reshape(y_train.shape[0] , 1)\n",
        "ytest = ytest.reshape(ytest.shape[0], 1)"
      ],
      "metadata": {
        "id": "GIj2ymS_nn9I"
      },
      "execution_count": 81,
      "outputs": []
    },
    {
      "cell_type": "code",
      "execution_count": 82,
      "metadata": {
        "id": "fYoJDTFWZ5AC"
      },
      "outputs": [],
      "source": [
        "### Create the Stacked LSTM model\n",
        "from tensorflow.keras.models import Sequential\n",
        "from tensorflow.keras.layers import Dense\n",
        "from tensorflow.keras.layers import LSTM"
      ]
    },
    {
      "cell_type": "code",
      "execution_count": 83,
      "metadata": {
        "id": "cYHlYuy8Z5AC"
      },
      "outputs": [],
      "source": [
        "model=Sequential()\n",
        "model.add(LSTM(50,return_sequences=True,input_shape=(50,1)))\n",
        "model.add(LSTM(50,return_sequences=True))\n",
        "model.add(LSTM(50))\n",
        "model.add(Dense(1))\n",
        "model.compile(loss='mean_squared_error',optimizer='adam')\n"
      ]
    },
    {
      "cell_type": "code",
      "execution_count": 84,
      "metadata": {
        "colab": {
          "base_uri": "https://localhost:8080/"
        },
        "id": "Abw_SDXUZ5AC",
        "outputId": "2b28b402-2b5f-4966-b6ab-4ae197b8026a"
      },
      "outputs": [
        {
          "output_type": "stream",
          "name": "stdout",
          "text": [
            "Model: \"sequential_1\"\n",
            "_________________________________________________________________\n",
            " Layer (type)                Output Shape              Param #   \n",
            "=================================================================\n",
            " lstm_3 (LSTM)               (None, 50, 50)            10400     \n",
            "                                                                 \n",
            " lstm_4 (LSTM)               (None, 50, 50)            20200     \n",
            "                                                                 \n",
            " lstm_5 (LSTM)               (None, 50)                20200     \n",
            "                                                                 \n",
            " dense_1 (Dense)             (None, 1)                 51        \n",
            "                                                                 \n",
            "=================================================================\n",
            "Total params: 50,851\n",
            "Trainable params: 50,851\n",
            "Non-trainable params: 0\n",
            "_________________________________________________________________\n"
          ]
        }
      ],
      "source": [
        "model.summary()"
      ]
    },
    {
      "cell_type": "code",
      "execution_count": 85,
      "metadata": {
        "colab": {
          "base_uri": "https://localhost:8080/"
        },
        "id": "yKo9kWU-Z5AD",
        "outputId": "06839bf6-ef56-45bf-c05f-8f8c98bd62c4"
      },
      "outputs": [
        {
          "output_type": "stream",
          "name": "stdout",
          "text": [
            "Epoch 1/100\n",
            "66/66 [==============================] - 8s 29ms/step - loss: 0.0079 - val_loss: 0.0031\n",
            "Epoch 2/100\n",
            "66/66 [==============================] - 1s 11ms/step - loss: 4.0087e-04 - val_loss: 0.0031\n",
            "Epoch 3/100\n",
            "66/66 [==============================] - 1s 11ms/step - loss: 3.8575e-04 - val_loss: 0.0035\n",
            "Epoch 4/100\n",
            "66/66 [==============================] - 1s 12ms/step - loss: 3.5852e-04 - val_loss: 0.0036\n",
            "Epoch 5/100\n",
            "66/66 [==============================] - 1s 12ms/step - loss: 4.0427e-04 - val_loss: 0.0025\n",
            "Epoch 6/100\n",
            "66/66 [==============================] - 1s 12ms/step - loss: 3.2745e-04 - val_loss: 0.0021\n",
            "Epoch 7/100\n",
            "66/66 [==============================] - 1s 11ms/step - loss: 3.0767e-04 - val_loss: 0.0024\n",
            "Epoch 8/100\n",
            "66/66 [==============================] - 1s 12ms/step - loss: 2.8942e-04 - val_loss: 0.0026\n",
            "Epoch 9/100\n",
            "66/66 [==============================] - 1s 16ms/step - loss: 3.0947e-04 - val_loss: 0.0016\n",
            "Epoch 10/100\n",
            "66/66 [==============================] - 1s 17ms/step - loss: 2.6551e-04 - val_loss: 0.0014\n",
            "Epoch 11/100\n",
            "66/66 [==============================] - 1s 15ms/step - loss: 3.2222e-04 - val_loss: 0.0031\n",
            "Epoch 12/100\n",
            "66/66 [==============================] - 1s 12ms/step - loss: 2.7184e-04 - val_loss: 0.0022\n",
            "Epoch 13/100\n",
            "66/66 [==============================] - 1s 12ms/step - loss: 2.7321e-04 - val_loss: 0.0013\n",
            "Epoch 14/100\n",
            "66/66 [==============================] - 1s 13ms/step - loss: 2.1660e-04 - val_loss: 0.0012\n",
            "Epoch 15/100\n",
            "66/66 [==============================] - 1s 12ms/step - loss: 2.3159e-04 - val_loss: 0.0014\n",
            "Epoch 16/100\n",
            "66/66 [==============================] - 1s 12ms/step - loss: 2.1457e-04 - val_loss: 0.0014\n",
            "Epoch 17/100\n",
            "66/66 [==============================] - 1s 12ms/step - loss: 2.3148e-04 - val_loss: 0.0013\n",
            "Epoch 18/100\n",
            "66/66 [==============================] - 1s 12ms/step - loss: 2.0822e-04 - val_loss: 0.0024\n",
            "Epoch 19/100\n",
            "66/66 [==============================] - 1s 12ms/step - loss: 2.0206e-04 - val_loss: 0.0011\n",
            "Epoch 20/100\n",
            "66/66 [==============================] - 1s 12ms/step - loss: 1.8295e-04 - val_loss: 0.0012\n",
            "Epoch 21/100\n",
            "66/66 [==============================] - 1s 13ms/step - loss: 1.7309e-04 - val_loss: 8.1458e-04\n",
            "Epoch 22/100\n",
            "66/66 [==============================] - 1s 12ms/step - loss: 1.7180e-04 - val_loss: 0.0023\n",
            "Epoch 23/100\n",
            "66/66 [==============================] - 1s 12ms/step - loss: 2.0046e-04 - val_loss: 9.2848e-04\n",
            "Epoch 24/100\n",
            "66/66 [==============================] - 2s 38ms/step - loss: 1.4924e-04 - val_loss: 0.0022\n",
            "Epoch 25/100\n",
            "66/66 [==============================] - 1s 21ms/step - loss: 1.9228e-04 - val_loss: 7.4483e-04\n",
            "Epoch 26/100\n",
            "66/66 [==============================] - 1s 13ms/step - loss: 1.6340e-04 - val_loss: 7.0033e-04\n",
            "Epoch 27/100\n",
            "66/66 [==============================] - 1s 12ms/step - loss: 1.4758e-04 - val_loss: 7.2071e-04\n",
            "Epoch 28/100\n",
            "66/66 [==============================] - 1s 12ms/step - loss: 1.3461e-04 - val_loss: 0.0011\n",
            "Epoch 29/100\n",
            "66/66 [==============================] - 1s 12ms/step - loss: 1.9842e-04 - val_loss: 0.0013\n",
            "Epoch 30/100\n",
            "66/66 [==============================] - 1s 12ms/step - loss: 1.3484e-04 - val_loss: 5.4149e-04\n",
            "Epoch 31/100\n",
            "66/66 [==============================] - 1s 12ms/step - loss: 1.1352e-04 - val_loss: 0.0022\n",
            "Epoch 32/100\n",
            "66/66 [==============================] - 1s 12ms/step - loss: 1.5104e-04 - val_loss: 0.0012\n",
            "Epoch 33/100\n",
            "66/66 [==============================] - 1s 13ms/step - loss: 1.1884e-04 - val_loss: 4.5620e-04\n",
            "Epoch 34/100\n",
            "66/66 [==============================] - 1s 13ms/step - loss: 1.0507e-04 - val_loss: 8.1798e-04\n",
            "Epoch 35/100\n",
            "66/66 [==============================] - 1s 12ms/step - loss: 9.3419e-05 - val_loss: 5.0313e-04\n",
            "Epoch 36/100\n",
            "66/66 [==============================] - 1s 12ms/step - loss: 9.1189e-05 - val_loss: 5.7312e-04\n",
            "Epoch 37/100\n",
            "66/66 [==============================] - 1s 16ms/step - loss: 1.0531e-04 - val_loss: 5.4282e-04\n",
            "Epoch 38/100\n",
            "66/66 [==============================] - 1s 18ms/step - loss: 8.8986e-05 - val_loss: 3.7556e-04\n",
            "Epoch 39/100\n",
            "66/66 [==============================] - 1s 16ms/step - loss: 7.8082e-05 - val_loss: 4.1536e-04\n",
            "Epoch 40/100\n",
            "66/66 [==============================] - 1s 12ms/step - loss: 9.0968e-05 - val_loss: 5.8048e-04\n",
            "Epoch 41/100\n",
            "66/66 [==============================] - 1s 13ms/step - loss: 8.1750e-05 - val_loss: 8.2951e-04\n",
            "Epoch 42/100\n",
            "66/66 [==============================] - 1s 12ms/step - loss: 8.5385e-05 - val_loss: 5.9758e-04\n",
            "Epoch 43/100\n",
            "66/66 [==============================] - 1s 13ms/step - loss: 7.6365e-05 - val_loss: 5.0944e-04\n",
            "Epoch 44/100\n",
            "66/66 [==============================] - 1s 13ms/step - loss: 7.5317e-05 - val_loss: 6.2178e-04\n",
            "Epoch 45/100\n",
            "66/66 [==============================] - 1s 12ms/step - loss: 7.4517e-05 - val_loss: 0.0011\n",
            "Epoch 46/100\n",
            "66/66 [==============================] - 1s 13ms/step - loss: 1.0569e-04 - val_loss: 3.3688e-04\n",
            "Epoch 47/100\n",
            "66/66 [==============================] - 1s 12ms/step - loss: 6.3065e-05 - val_loss: 3.1350e-04\n",
            "Epoch 48/100\n",
            "66/66 [==============================] - 1s 12ms/step - loss: 7.7989e-05 - val_loss: 3.2526e-04\n",
            "Epoch 49/100\n",
            "66/66 [==============================] - 1s 12ms/step - loss: 6.7428e-05 - val_loss: 3.1978e-04\n",
            "Epoch 50/100\n",
            "66/66 [==============================] - 1s 11ms/step - loss: 6.1157e-05 - val_loss: 4.3681e-04\n",
            "Epoch 51/100\n",
            "66/66 [==============================] - 1s 13ms/step - loss: 8.3297e-05 - val_loss: 6.5082e-04\n",
            "Epoch 52/100\n",
            "66/66 [==============================] - 1s 18ms/step - loss: 6.9078e-05 - val_loss: 3.3729e-04\n",
            "Epoch 53/100\n",
            "66/66 [==============================] - 1s 18ms/step - loss: 6.6134e-05 - val_loss: 3.1345e-04\n",
            "Epoch 54/100\n",
            "66/66 [==============================] - 1s 13ms/step - loss: 6.4021e-05 - val_loss: 3.1701e-04\n",
            "Epoch 55/100\n",
            "66/66 [==============================] - 1s 13ms/step - loss: 9.1522e-05 - val_loss: 5.5049e-04\n",
            "Epoch 56/100\n",
            "66/66 [==============================] - 1s 12ms/step - loss: 6.8462e-05 - val_loss: 4.7124e-04\n",
            "Epoch 57/100\n",
            "66/66 [==============================] - 1s 12ms/step - loss: 5.8473e-05 - val_loss: 6.0669e-04\n",
            "Epoch 58/100\n",
            "66/66 [==============================] - 1s 12ms/step - loss: 5.8066e-05 - val_loss: 4.6928e-04\n",
            "Epoch 59/100\n",
            "66/66 [==============================] - 1s 13ms/step - loss: 5.5852e-05 - val_loss: 3.5453e-04\n",
            "Epoch 60/100\n",
            "66/66 [==============================] - 1s 11ms/step - loss: 5.3985e-05 - val_loss: 3.1848e-04\n",
            "Epoch 61/100\n",
            "66/66 [==============================] - 1s 12ms/step - loss: 5.6567e-05 - val_loss: 2.9241e-04\n",
            "Epoch 62/100\n",
            "66/66 [==============================] - 1s 13ms/step - loss: 7.0440e-05 - val_loss: 7.3181e-04\n",
            "Epoch 63/100\n",
            "66/66 [==============================] - 1s 13ms/step - loss: 5.8753e-05 - val_loss: 7.0378e-04\n",
            "Epoch 64/100\n",
            "66/66 [==============================] - 1s 12ms/step - loss: 5.8445e-05 - val_loss: 3.2358e-04\n",
            "Epoch 65/100\n",
            "66/66 [==============================] - 1s 12ms/step - loss: 6.2319e-05 - val_loss: 3.3368e-04\n",
            "Epoch 66/100\n",
            "66/66 [==============================] - 1s 15ms/step - loss: 6.2610e-05 - val_loss: 3.4556e-04\n",
            "Epoch 67/100\n",
            "66/66 [==============================] - 1s 17ms/step - loss: 6.0882e-05 - val_loss: 3.5269e-04\n",
            "Epoch 68/100\n",
            "66/66 [==============================] - 1s 16ms/step - loss: 5.2319e-05 - val_loss: 3.5800e-04\n",
            "Epoch 69/100\n",
            "66/66 [==============================] - 1s 12ms/step - loss: 6.5292e-05 - val_loss: 6.3600e-04\n",
            "Epoch 70/100\n",
            "66/66 [==============================] - 1s 12ms/step - loss: 6.0457e-05 - val_loss: 3.4465e-04\n",
            "Epoch 71/100\n",
            "66/66 [==============================] - 1s 12ms/step - loss: 5.0575e-05 - val_loss: 3.1110e-04\n",
            "Epoch 72/100\n",
            "66/66 [==============================] - 1s 12ms/step - loss: 5.0555e-05 - val_loss: 7.3774e-04\n",
            "Epoch 73/100\n",
            "66/66 [==============================] - 1s 12ms/step - loss: 6.9880e-05 - val_loss: 5.6560e-04\n",
            "Epoch 74/100\n",
            "66/66 [==============================] - 1s 13ms/step - loss: 5.8769e-05 - val_loss: 3.2288e-04\n",
            "Epoch 75/100\n",
            "66/66 [==============================] - 1s 13ms/step - loss: 6.5304e-05 - val_loss: 4.5737e-04\n",
            "Epoch 76/100\n",
            "66/66 [==============================] - 1s 12ms/step - loss: 5.5743e-05 - val_loss: 6.1211e-04\n",
            "Epoch 77/100\n",
            "66/66 [==============================] - 1s 12ms/step - loss: 7.3652e-05 - val_loss: 3.3162e-04\n",
            "Epoch 78/100\n",
            "66/66 [==============================] - 1s 12ms/step - loss: 5.9228e-05 - val_loss: 3.6784e-04\n",
            "Epoch 79/100\n",
            "66/66 [==============================] - 1s 13ms/step - loss: 5.1103e-05 - val_loss: 3.5966e-04\n",
            "Epoch 80/100\n",
            "66/66 [==============================] - 1s 13ms/step - loss: 5.4923e-05 - val_loss: 5.9495e-04\n",
            "Epoch 81/100\n",
            "66/66 [==============================] - 1s 18ms/step - loss: 5.2093e-05 - val_loss: 5.8284e-04\n",
            "Epoch 82/100\n",
            "66/66 [==============================] - 1s 17ms/step - loss: 5.8094e-05 - val_loss: 3.7193e-04\n",
            "Epoch 83/100\n",
            "66/66 [==============================] - 1s 14ms/step - loss: 5.4474e-05 - val_loss: 5.0604e-04\n",
            "Epoch 84/100\n",
            "66/66 [==============================] - 1s 12ms/step - loss: 5.6783e-05 - val_loss: 3.3595e-04\n",
            "Epoch 85/100\n",
            "66/66 [==============================] - 1s 13ms/step - loss: 7.3073e-05 - val_loss: 3.4139e-04\n",
            "Epoch 86/100\n",
            "66/66 [==============================] - 1s 13ms/step - loss: 5.8359e-05 - val_loss: 5.8934e-04\n",
            "Epoch 87/100\n",
            "66/66 [==============================] - 1s 13ms/step - loss: 4.8959e-05 - val_loss: 3.5009e-04\n",
            "Epoch 88/100\n",
            "66/66 [==============================] - 1s 13ms/step - loss: 5.1485e-05 - val_loss: 3.6648e-04\n",
            "Epoch 89/100\n",
            "66/66 [==============================] - 1s 13ms/step - loss: 4.8768e-05 - val_loss: 3.1919e-04\n",
            "Epoch 90/100\n",
            "66/66 [==============================] - 1s 13ms/step - loss: 6.6576e-05 - val_loss: 6.0871e-04\n",
            "Epoch 91/100\n",
            "66/66 [==============================] - 1s 14ms/step - loss: 5.0336e-05 - val_loss: 6.5263e-04\n",
            "Epoch 92/100\n",
            "66/66 [==============================] - 1s 12ms/step - loss: 5.6532e-05 - val_loss: 3.6504e-04\n",
            "Epoch 93/100\n",
            "66/66 [==============================] - 1s 12ms/step - loss: 5.5576e-05 - val_loss: 3.4015e-04\n",
            "Epoch 94/100\n",
            "66/66 [==============================] - 1s 12ms/step - loss: 5.2529e-05 - val_loss: 3.4322e-04\n",
            "Epoch 95/100\n",
            "66/66 [==============================] - 1s 17ms/step - loss: 5.4382e-05 - val_loss: 4.0840e-04\n",
            "Epoch 96/100\n",
            "66/66 [==============================] - 1s 17ms/step - loss: 5.1320e-05 - val_loss: 4.1635e-04\n",
            "Epoch 97/100\n",
            "66/66 [==============================] - 1s 15ms/step - loss: 5.6427e-05 - val_loss: 3.3327e-04\n",
            "Epoch 98/100\n",
            "66/66 [==============================] - 1s 14ms/step - loss: 5.6463e-05 - val_loss: 6.1000e-04\n",
            "Epoch 99/100\n",
            "66/66 [==============================] - 1s 13ms/step - loss: 5.5549e-05 - val_loss: 3.9112e-04\n",
            "Epoch 100/100\n",
            "66/66 [==============================] - 1s 12ms/step - loss: 4.9943e-05 - val_loss: 3.8510e-04\n"
          ]
        },
        {
          "output_type": "execute_result",
          "data": {
            "text/plain": [
              "<keras.callbacks.History at 0x7918850e2770>"
            ]
          },
          "metadata": {},
          "execution_count": 85
        }
      ],
      "source": [
        "model.fit(X_train,y_train,validation_data=(X_test,ytest),epochs=100,batch_size=32,verbose=1)"
      ]
    },
    {
      "cell_type": "code",
      "source": [
        "model.save('MODEL.h5')"
      ],
      "metadata": {
        "id": "hG-X-zVbnCKq"
      },
      "execution_count": 86,
      "outputs": []
    },
    {
      "cell_type": "code",
      "execution_count": 87,
      "metadata": {
        "id": "xGENNzScZ5AD"
      },
      "outputs": [],
      "source": [
        "import tensorflow as tf"
      ]
    },
    {
      "cell_type": "code",
      "execution_count": 88,
      "metadata": {
        "colab": {
          "base_uri": "https://localhost:8080/",
          "height": 36
        },
        "id": "zMNoPSM0Z5AD",
        "outputId": "d0ec625f-38e4-40a0-e631-10b8f90c9a7f"
      },
      "outputs": [
        {
          "output_type": "execute_result",
          "data": {
            "text/plain": [
              "'2.12.0'"
            ],
            "application/vnd.google.colaboratory.intrinsic+json": {
              "type": "string"
            }
          },
          "metadata": {},
          "execution_count": 88
        }
      ],
      "source": [
        "tf.__version__"
      ]
    },
    {
      "cell_type": "code",
      "execution_count": 89,
      "metadata": {
        "colab": {
          "base_uri": "https://localhost:8080/"
        },
        "id": "WBC-7baxZ5AD",
        "outputId": "e482f02a-6a00-43f3-9fa6-1d9a1f4de160"
      },
      "outputs": [
        {
          "output_type": "stream",
          "name": "stdout",
          "text": [
            "66/66 [==============================] - 1s 5ms/step\n",
            "16/16 [==============================] - 0s 6ms/step\n"
          ]
        }
      ],
      "source": [
        "### Lets Do the prediction and check performance metrics\n",
        "train_predict=model.predict(X_train)\n",
        "test_predict=model.predict(X_test)"
      ]
    },
    {
      "cell_type": "code",
      "source": [],
      "metadata": {
        "id": "3UKL07LXm0Dw"
      },
      "execution_count": 89,
      "outputs": []
    },
    {
      "cell_type": "code",
      "execution_count": 90,
      "metadata": {
        "id": "fsJmYpg5Z5AD"
      },
      "outputs": [],
      "source": [
        "##Transformback to original form\n",
        "train_predict=scaler.inverse_transform(train_predict)\n",
        "test_predict=scaler.inverse_transform(test_predict)"
      ]
    },
    {
      "cell_type": "code",
      "source": [
        "##Transformback to original form\n",
        "y_train=scaler.inverse_transform(y_train)\n",
        "ytest=scaler.inverse_transform(ytest)"
      ],
      "metadata": {
        "id": "YzHvAWEXpseW"
      },
      "execution_count": 91,
      "outputs": []
    },
    {
      "cell_type": "code",
      "execution_count": 92,
      "metadata": {
        "colab": {
          "base_uri": "https://localhost:8080/"
        },
        "id": "0KSlwELjZ5AD",
        "outputId": "c723a274-6445-4b2f-d212-84ade9197b01"
      },
      "outputs": [
        {
          "output_type": "execute_result",
          "data": {
            "text/plain": [
              "73.80862921782592"
            ]
          },
          "metadata": {},
          "execution_count": 92
        }
      ],
      "source": [
        "### Calculate RMSE performance metrics\n",
        "import math\n",
        "from sklearn.metrics import mean_squared_error\n",
        "math.sqrt(mean_squared_error(y_train,train_predict))"
      ]
    },
    {
      "cell_type": "code",
      "execution_count": 93,
      "metadata": {
        "colab": {
          "base_uri": "https://localhost:8080/"
        },
        "id": "Z6eQzYU6Z5AE",
        "outputId": "d007364b-d2a9-4c4d-e411-7bdf19fde8c5"
      },
      "outputs": [
        {
          "output_type": "execute_result",
          "data": {
            "text/plain": [
              "211.36103992894627"
            ]
          },
          "metadata": {},
          "execution_count": 93
        }
      ],
      "source": [
        "### Test Data RMSE\n",
        "math.sqrt(mean_squared_error(ytest,test_predict))"
      ]
    },
    {
      "cell_type": "code",
      "execution_count": 94,
      "metadata": {
        "colab": {
          "base_uri": "https://localhost:8080/",
          "height": 430
        },
        "id": "lciDnt59Z5AE",
        "outputId": "f1053957-0b76-4b6b-897b-32d155ef81d7"
      },
      "outputs": [
        {
          "output_type": "display_data",
          "data": {
            "text/plain": [
              "<Figure size 640x480 with 1 Axes>"
            ],
            "image/png": "[encoded data removed]"
          },
          "metadata": {}
        }
      ],
      "source": [
        "### Plotting\n",
        "# shift train predictions for plotting\n",
        "look_back=50\n",
        "trainPredictPlot = numpy.empty_like(df1)\n",
        "trainPredictPlot[:, :] = np.nan\n",
        "trainPredictPlot[look_back:len(train_predict)+look_back, :] = train_predict\n",
        "# shift test predictions for plotting\n",
        "testPredictPlot = numpy.empty_like(df1)\n",
        "testPredictPlot[:, :] = numpy.nan\n",
        "testPredictPlot[len(train_predict)+(look_back*2)+1:len(df1)-1, :] = test_predict\n",
        "# plot baseline and predictions\n",
        "plt.plot(scaler.inverse_transform(df1))\n",
        "plt.plot(trainPredictPlot)\n",
        "plt.plot(testPredictPlot)\n",
        "plt.show()"
      ]
    },
    {
      "cell_type": "code",
      "source": [
        "# from here begins for next n days"
      ],
      "metadata": {
        "id": "Iqrw_ciUa_ao"
      },
      "execution_count": 95,
      "outputs": []
    },
    {
      "cell_type": "code",
      "source": [
        "data=pd.read_csv('sample_input.csv')"
      ],
      "metadata": {
        "id": "PmfK9iqbcYTD"
      },
      "execution_count": 96,
      "outputs": []
    },
    {
      "cell_type": "code",
      "source": [
        "data.info()\n",
        "data.fillna(method='ffill', inplace=True)"
      ],
      "metadata": {
        "colab": {
          "base_uri": "https://localhost:8080/"
        },
        "id": "Y-9-kJc0cZe7",
        "outputId": "81341659-074b-4e90-88f5-4de59dcdcda6"
      },
      "execution_count": 97,
      "outputs": [
        {
          "output_type": "stream",
          "name": "stdout",
          "text": [
            "<class 'pandas.core.frame.DataFrame'>\n",
            "RangeIndex: 50 entries, 0 to 49\n",
            "Data columns (total 7 columns):\n",
            " #   Column     Non-Null Count  Dtype  \n",
            "---  ------     --------------  -----  \n",
            " 0   Date       50 non-null     object \n",
            " 1   Open       48 non-null     float64\n",
            " 2   High       48 non-null     float64\n",
            " 3   Low        48 non-null     float64\n",
            " 4   Close      48 non-null     float64\n",
            " 5   Adj Close  48 non-null     float64\n",
            " 6   Volume     48 non-null     float64\n",
            "dtypes: float64(6), object(1)\n",
            "memory usage: 2.9+ KB\n"
          ]
        }
      ]
    },
    {
      "cell_type": "code",
      "source": [
        "data1=data.reset_index()['Close']\n",
        "data1.info()"
      ],
      "metadata": {
        "colab": {
          "base_uri": "https://localhost:8080/"
        },
        "id": "mlvufqE2cxIY",
        "outputId": "c2bd03e0-c2d4-442a-be40-802a52a52695"
      },
      "execution_count": 98,
      "outputs": [
        {
          "output_type": "stream",
          "name": "stdout",
          "text": [
            "<class 'pandas.core.series.Series'>\n",
            "RangeIndex: 50 entries, 0 to 49\n",
            "Series name: Close\n",
            "Non-Null Count  Dtype  \n",
            "--------------  -----  \n",
            "50 non-null     float64\n",
            "dtypes: float64(1)\n",
            "memory usage: 528.0 bytes\n"
          ]
        }
      ]
    },
    {
      "cell_type": "code",
      "source": [
        "data1.info()"
      ],
      "metadata": {
        "colab": {
          "base_uri": "https://localhost:8080/"
        },
        "id": "a1Oc-V35jboh",
        "outputId": "2c578b62-357f-4c32-da4f-2e9cae9844bb"
      },
      "execution_count": 99,
      "outputs": [
        {
          "output_type": "stream",
          "name": "stdout",
          "text": [
            "<class 'pandas.core.series.Series'>\n",
            "RangeIndex: 50 entries, 0 to 49\n",
            "Series name: Close\n",
            "Non-Null Count  Dtype  \n",
            "--------------  -----  \n",
            "50 non-null     float64\n",
            "dtypes: float64(1)\n",
            "memory usage: 528.0 bytes\n"
          ]
        }
      ]
    },
    {
      "cell_type": "code",
      "source": [
        "data1 = data1.interpolate(method='spline', order=3)\n",
        "data1.fillna(method='ffill', inplace=True) # Fill missing values forward\n",
        "data1.fillna(method='bfill', inplace=True) # Fill missing values backward\n",
        "# data1=data1.ffill()"
      ],
      "metadata": {
        "id": "VJPF_UNSdJK3"
      },
      "execution_count": 100,
      "outputs": []
    },
    {
      "cell_type": "code",
      "source": [
        "import matplotlib.pyplot as plt\n",
        "plt.plot(data1)"
      ],
      "metadata": {
        "colab": {
          "base_uri": "https://localhost:8080/",
          "height": 447
        },
        "id": "kedLJfJ2dIWD",
        "outputId": "6ef914bf-e93a-4a0d-ff44-c5269bc9fc6b"
      },
      "execution_count": 101,
      "outputs": [
        {
          "output_type": "execute_result",
          "data": {
            "text/plain": [
              "[<matplotlib.lines.Line2D at 0x79187cd4aad0>]"
            ]
          },
          "metadata": {},
          "execution_count": 101
        },
        {
          "output_type": "display_data",
          "data": {
            "text/plain": [
              "<Figure size 640x480 with 1 Axes>"
            ],
            "image/png": "[encoded data removed]"
          },
          "metadata": {}
        }
      ]
    },
    {
      "cell_type": "code",
      "execution_count": 102,
      "metadata": {
        "colab": {
          "base_uri": "https://localhost:8080/"
        },
        "id": "u2XNrXFrZ5AE",
        "outputId": "43fb5c0e-9313-4b5f-b4d3-35807ab7ed1f"
      },
      "outputs": [
        {
          "output_type": "execute_result",
          "data": {
            "text/plain": [
              "50"
            ]
          },
          "metadata": {},
          "execution_count": 102
        }
      ],
      "source": [
        "len(data1)"
      ]
    },
    {
      "cell_type": "code",
      "source": [
        "from sklearn.preprocessing import MinMaxScaler\n",
        "scaler=MinMaxScaler(feature_range=(0,1))\n",
        "data1=scaler.fit_transform(np.array(data1).reshape(-1,1))"
      ],
      "metadata": {
        "id": "eguDLhBQeHnQ"
      },
      "execution_count": 103,
      "outputs": []
    },
    {
      "cell_type": "code",
      "source": [
        "# len(test dta)-50 in next line instead of 341"
      ],
      "metadata": {
        "id": "VmE24me0azKN"
      },
      "execution_count": 104,
      "outputs": []
    },
    {
      "cell_type": "code",
      "execution_count": 105,
      "metadata": {
        "colab": {
          "base_uri": "https://localhost:8080/"
        },
        "id": "mYpsrgs5Z5AH",
        "outputId": "676abc80-ed00-43e3-c008-5b966feb8012"
      },
      "outputs": [
        {
          "output_type": "execute_result",
          "data": {
            "text/plain": [
              "(1, 50)"
            ]
          },
          "metadata": {},
          "execution_count": 105
        }
      ],
      "source": [
        "x_input=data1.reshape(1,-1)\n",
        "x_input.shape\n"
      ]
    },
    {
      "cell_type": "code",
      "execution_count": 106,
      "metadata": {
        "id": "RT5PuVw-Z5AI"
      },
      "outputs": [],
      "source": [
        "temp_input=list(x_input)\n",
        "temp_input=temp_input[0].tolist()"
      ]
    },
    {
      "cell_type": "code",
      "execution_count": 107,
      "metadata": {
        "colab": {
          "base_uri": "https://localhost:8080/"
        },
        "id": "btFHf-QVZ5AI",
        "outputId": "da920827-779d-48a5-b656-dbdb987e6e90"
      },
      "outputs": [
        {
          "output_type": "execute_result",
          "data": {
            "text/plain": [
              "[0.0,\n",
              " 0.07340948913703116,\n",
              " 0.29286999445283346,\n",
              " 0.30304186084476115,\n",
              " 0.278715877266281,\n",
              " 0.2835138830922306,\n",
              " 0.26067556344253795,\n",
              " 0.27132722945746046,\n",
              " 0.2832739828009334,\n",
              " 0.2903749383420253,\n",
              " 0.2510795517906388,\n",
              " 0.26077161664037085,\n",
              " 0.26077161664037085,\n",
              " 0.3474234147347959,\n",
              " 0.35342092201723396,\n",
              " 0.36460018155078266,\n",
              " 0.40332018260711155,\n",
              " 0.4552824916612339,\n",
              " 0.4632474624954517,\n",
              " 0.47941636788444786,\n",
              " 0.509643804587931,\n",
              " 0.49385864658369805,\n",
              " 0.4537952979370168,\n",
              " 0.4544667375895086,\n",
              " 0.5515307696929277,\n",
              " 0.5517224087628243,\n",
              " 0.5324343322611922,\n",
              " 0.4909798430881285,\n",
              " 0.4355146145770066,\n",
              " 0.5354091889545947,\n",
              " 0.5721139335231111,\n",
              " 0.5699070389250025,\n",
              " 0.5943286074159451,\n",
              " 0.5943286074159451,\n",
              " 0.5386239468988956,\n",
              " 0.5179925218473116,\n",
              " 0.47385086824857314,\n",
              " 0.45576229224382825,\n",
              " 0.45422683729821145,\n",
              " 0.45859330376296725,\n",
              " 0.473898661184605,\n",
              " 0.41368368806893496,\n",
              " 0.42068905773796406,\n",
              " 0.6116014283893643,\n",
              " 0.7607716166403709,\n",
              " 0.8514539267508221,\n",
              " 0.8514539267508221,\n",
              " 0.8652720894886432,\n",
              " 0.9418963365699753,\n",
              " 1.0]"
            ]
          },
          "metadata": {},
          "execution_count": 107
        }
      ],
      "source": [
        "temp_input"
      ]
    },
    {
      "cell_type": "code",
      "execution_count": 108,
      "metadata": {
        "colab": {
          "base_uri": "https://localhost:8080/"
        },
        "id": "u0_5eS0PZ5AJ",
        "outputId": "b7716431-0f76-428e-864d-03f905010623"
      },
      "outputs": [
        {
          "output_type": "stream",
          "name": "stdout",
          "text": [
            "[0.94268537]\n",
            "51\n",
            "1 day input [0.07340949 0.29286999 0.30304186 0.27871588 0.28351388 0.26067556\n",
            " 0.27132723 0.28327398 0.29037494 0.25107955 0.26077162 0.26077162\n",
            " 0.34742341 0.35342092 0.36460018 0.40332018 0.45528249 0.46324746\n",
            " 0.47941637 0.5096438  0.49385865 0.4537953  0.45446674 0.55153077\n",
            " 0.55172241 0.53243433 0.49097984 0.43551461 0.53540919 0.57211393\n",
            " 0.56990704 0.59432861 0.59432861 0.53862395 0.51799252 0.47385087\n",
            " 0.45576229 0.45422684 0.4585933  0.47389866 0.41368369 0.42068906\n",
            " 0.61160143 0.76077162 0.85145393 0.85145393 0.86527209 0.94189634\n",
            " 1.         0.94268537]\n",
            "1 day output [[0.89266866]]\n",
            "[[0.9426853656768799], [0.8926686644554138]]\n"
          ]
        }
      ],
      "source": [
        "# demonstrate prediction for next 2 days\n",
        "from numpy import array\n",
        "\n",
        "lst_output=[]\n",
        "n_steps=50\n",
        "i=0\n",
        "while(i<2):\n",
        "\n",
        "    if(len(temp_input)>50):\n",
        "        #print(temp_input)\n",
        "        x_input=np.array(temp_input[1:])\n",
        "        print(\"{} day input {}\".format(i,x_input))\n",
        "        x_input=x_input.reshape(1,-1)\n",
        "        x_input = x_input.reshape((1, n_steps, 1))\n",
        "        #print(x_input)\n",
        "        yhat = model.predict(x_input, verbose=0)\n",
        "        print(\"{} day output {}\".format(i,yhat))\n",
        "        temp_input.extend(yhat[0].tolist())\n",
        "        temp_input=temp_input[1:]\n",
        "        #print(temp_input)\n",
        "        lst_output.extend(yhat.tolist())\n",
        "        i=i+1\n",
        "    else:\n",
        "        x_input = x_input.reshape((1, n_steps,1))\n",
        "        yhat = model.predict(x_input, verbose=0)\n",
        "        print(yhat[0])\n",
        "        temp_input.extend(yhat[0].tolist())\n",
        "        print(len(temp_input))\n",
        "        lst_output.extend(yhat.tolist())\n",
        "        i=i+1\n",
        "\n",
        "\n",
        "print(lst_output)"
      ]
    },
    {
      "cell_type": "code",
      "source": [
        "lst_output_2=scaler.inverse_transform(lst_output).tolist()\n",
        "lst_output_2"
      ],
      "metadata": {
        "colab": {
          "base_uri": "https://localhost:8080/"
        },
        "id": "nLhSbd8eexoG",
        "outputId": "612a2f09-9c27-48b0-bb1d-2d5de11ca264"
      },
      "execution_count": 109,
      "outputs": [
        {
          "output_type": "execute_result",
          "data": {
            "text/plain": [
              "[[7203.822246924584], [7151.699862088208]]"
            ]
          },
          "metadata": {},
          "execution_count": 109
        }
      ]
    },
    {
      "cell_type": "code",
      "execution_count": 110,
      "metadata": {
        "id": "SI5dd5dWZ5AJ"
      },
      "outputs": [],
      "source": [
        "day_new=np.arange(1,51)\n",
        "day_pred=np.arange(51,53)"
      ]
    },
    {
      "cell_type": "code",
      "execution_count": 111,
      "metadata": {
        "id": "jXsHENnfZ5AJ"
      },
      "outputs": [],
      "source": [
        "import matplotlib.pyplot as plt"
      ]
    },
    {
      "cell_type": "code",
      "execution_count": 112,
      "metadata": {
        "colab": {
          "base_uri": "https://localhost:8080/"
        },
        "id": "dVyma7miZ5AK",
        "outputId": "480bb7f9-0481-4b6b-ec66-f47750a964b8"
      },
      "outputs": [
        {
          "output_type": "execute_result",
          "data": {
            "text/plain": [
              "50"
            ]
          },
          "metadata": {},
          "execution_count": 112
        }
      ],
      "source": [
        "len(data1)"
      ]
    },
    {
      "cell_type": "code",
      "execution_count": 112,
      "metadata": {
        "id": "wZ-1NPB-Z5AK"
      },
      "outputs": [],
      "source": []
    },
    {
      "cell_type": "code",
      "execution_count": 113,
      "metadata": {
        "colab": {
          "base_uri": "https://localhost:8080/",
          "height": 447
        },
        "id": "vR6enIU7Z5AK",
        "outputId": "38a1bbe5-e032-4124-e25a-12a8e5939833"
      },
      "outputs": [
        {
          "output_type": "execute_result",
          "data": {
            "text/plain": [
              "[<matplotlib.lines.Line2D at 0x79187cdcd0f0>]"
            ]
          },
          "metadata": {},
          "execution_count": 113
        },
        {
          "output_type": "display_data",
          "data": {
            "text/plain": [
              "<Figure size 640x480 with 1 Axes>"
            ],
            "image/png": "[encoded data removed]"
          },
          "metadata": {}
        }
      ],
      "source": [
        "plt.plot(day_new,scaler.inverse_transform(data1))\n",
        "plt.plot(day_pred,scaler.inverse_transform(lst_output))"
      ]
    },
    {
      "cell_type": "code",
      "execution_count": 114,
      "metadata": {
        "colab": {
          "base_uri": "https://localhost:8080/",
          "height": 447
        },
        "id": "J4ZgT1eDZ5AK",
        "outputId": "09778540-aa8a-47ec-ce79-387c9cfbc328"
      },
      "outputs": [
        {
          "output_type": "execute_result",
          "data": {
            "text/plain": [
              "[<matplotlib.lines.Line2D at 0x79187cc6c4f0>]"
            ]
          },
          "metadata": {},
          "execution_count": 114
        },
        {
          "output_type": "display_data",
          "data": {
            "text/plain": [
              "<Figure size 640x480 with 1 Axes>"
            ],
            "image/png": "[encoded data removed]"
          },
          "metadata": {}
        }
      ],
      "source": [
        "data3=data1.tolist()\n",
        "data3.extend(lst_output)\n",
        "plt.plot(data3)"
      ]
    },
    {
      "cell_type": "code",
      "execution_count": 115,
      "metadata": {
        "id": "2OP2aNsXZ5AK"
      },
      "outputs": [],
      "source": [
        "data3=scaler.inverse_transform(data3).tolist()"
      ]
    },
    {
      "cell_type": "code",
      "execution_count": 116,
      "metadata": {
        "colab": {
          "base_uri": "https://localhost:8080/",
          "height": 447
        },
        "id": "HLahTrSFZ5AL",
        "outputId": "dc6c9da4-9393-46a5-b5e8-bb1f13771fd3"
      },
      "outputs": [
        {
          "output_type": "execute_result",
          "data": {
            "text/plain": [
              "[<matplotlib.lines.Line2D at 0x79187ccbeda0>]"
            ]
          },
          "metadata": {},
          "execution_count": 116
        },
        {
          "output_type": "display_data",
          "data": {
            "text/plain": [
              "<Figure size 640x480 with 1 Axes>"
            ],
            "image/png": "[encoded data removed]"
          },
          "metadata": {}
        }
      ],
      "source": [
        "plt.plot(data3)"
      ]
    },
    {
      "cell_type": "code",
      "execution_count": 58,
      "metadata": {
        "id": "MOKeVjZeZ5AL"
      },
      "outputs": [],
      "source": []
    }
  ],
  "metadata": {
    "kernelspec": {
      "display_name": "Python 3",
      "name": "python3"
    },
    "language_info": {
      "codemirror_mode": {
        "name": "ipython",
        "version": 3
      },
      "file_extension": ".py",
      "mimetype": "text/x-python",
      "name": "python",
      "nbconvert_exporter": "python",
      "pygments_lexer": "ipython3",
      "version": "3.6.9"
    },
    "colab": {
      "provenance": [],
      "gpuType": "T4"
    },
    "accelerator": "GPU"
  },
  "nbformat": 4,
  "nbformat_minor": 0
}